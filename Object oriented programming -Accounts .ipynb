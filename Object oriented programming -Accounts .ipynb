{
 "cells": [
  {
   "cell_type": "code",
   "execution_count": 9,
   "id": "c6232da8",
   "metadata": {},
   "outputs": [],
   "source": [
    "class Account:\n",
    "    def __init__(self,owner,balance):\n",
    "        self.owner=owner\n",
    "        self.balance=balance\n",
    "        \n",
    "    def deposit(self,amount):\n",
    "        self.balance += amount\n",
    "        print(\"deposit accepted\")\n",
    "        \n",
    "    def withdraw(self,amount):\n",
    "        if self.balance>=amount:\n",
    "            self.balance-=amount\n",
    "            print(\"withdrawal accepted\")\n",
    "            print(f\"you now have £{self.balance} remaining\")\n",
    "        else:\n",
    "            print(\"please withdraw less, you don't have enough in your account\")\n",
    "    def __str__(self):\n",
    "        return f\"Account owner is {self.owner} and Account balance is £{self.balance}\""
   ]
  },
  {
   "cell_type": "code",
   "execution_count": 10,
   "id": "fa62f07f",
   "metadata": {},
   "outputs": [],
   "source": [
    "my_account=Account(\"james\",1500)"
   ]
  },
  {
   "cell_type": "code",
   "execution_count": 11,
   "id": "9e455b90",
   "metadata": {},
   "outputs": [
    {
     "data": {
      "text/plain": [
       "'james'"
      ]
     },
     "execution_count": 11,
     "metadata": {},
     "output_type": "execute_result"
    }
   ],
   "source": [
    "my_account.owner"
   ]
  },
  {
   "cell_type": "code",
   "execution_count": 12,
   "id": "b48e3136",
   "metadata": {},
   "outputs": [
    {
     "data": {
      "text/plain": [
       "1500"
      ]
     },
     "execution_count": 12,
     "metadata": {},
     "output_type": "execute_result"
    }
   ],
   "source": [
    "my_account.balance"
   ]
  },
  {
   "cell_type": "code",
   "execution_count": 13,
   "id": "1c45ed83",
   "metadata": {},
   "outputs": [
    {
     "name": "stdout",
     "output_type": "stream",
     "text": [
      "please withdraw less, you don't have enough in your account\n"
     ]
    }
   ],
   "source": [
    "my_account.withdraw(2000)"
   ]
  },
  {
   "cell_type": "code",
   "execution_count": 14,
   "id": "a32c7da8",
   "metadata": {},
   "outputs": [
    {
     "name": "stdout",
     "output_type": "stream",
     "text": [
      "withdrawal accepted\n",
      "you now have £1480 remaining\n"
     ]
    }
   ],
   "source": [
    "my_account.withdraw(20)"
   ]
  },
  {
   "cell_type": "code",
   "execution_count": 15,
   "id": "48e91a96",
   "metadata": {},
   "outputs": [
    {
     "name": "stdout",
     "output_type": "stream",
     "text": [
      "deposit accepted\n"
     ]
    }
   ],
   "source": [
    "my_account.deposit(40)"
   ]
  },
  {
   "cell_type": "code",
   "execution_count": null,
   "id": "cc482627",
   "metadata": {},
   "outputs": [],
   "source": []
  }
 ],
 "metadata": {
  "kernelspec": {
   "display_name": "Python 3 (ipykernel)",
   "language": "python",
   "name": "python3"
  },
  "language_info": {
   "codemirror_mode": {
    "name": "ipython",
    "version": 3
   },
   "file_extension": ".py",
   "mimetype": "text/x-python",
   "name": "python",
   "nbconvert_exporter": "python",
   "pygments_lexer": "ipython3",
   "version": "3.11.7"
  }
 },
 "nbformat": 4,
 "nbformat_minor": 5
}
